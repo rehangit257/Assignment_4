{
 "cells": [
  {
   "cell_type": "markdown",
   "id": "b96ce84f",
   "metadata": {},
   "source": [
    "# Question#1"
   ]
  },
  {
   "cell_type": "code",
   "execution_count": 1,
   "id": "a0ebbda4",
   "metadata": {},
   "outputs": [
    {
     "name": "stdout",
     "output_type": "stream",
     "text": [
      "Enter first number:2\n",
      "Enter a operator(+,-,*,/,^):-\n",
      "Enter second number number:4\n",
      "2 - 4 = -2\n"
     ]
    }
   ],
   "source": [
    "def operation(number1,operator,number2):\n",
    "    if(operator=='+'):\n",
    "        print(number1,\"+\",number2,\"=\",number1+number2)\n",
    "    elif(operator==\"-\"):\n",
    "        print(number1,\"-\",number2,\"=\",number1-number2)\n",
    "    elif(operator==\"*\"):\n",
    "        print(number1,\"*\",number2,\"=\",number1*number2)\n",
    "    elif(operator==\"/\"):\n",
    "        print(number1,\"/\",number2,\"=\",number1/number2)\n",
    "    elif(operator==\"^\"):\n",
    "        print(number1,\"^\",number2,\"=\",number1**number2)\n",
    "num1=int(input(\"Enter first number:\"))\n",
    "op=input(\"Enter a operator(+,-,*,/,^):\")\n",
    "num2=int(input(\"Enter second number number:\"))\n",
    "operation(num1,op,num2)"
   ]
  },
  {
   "cell_type": "markdown",
   "id": "f12fc5c5",
   "metadata": {},
   "source": [
    "# Question#2"
   ]
  },
  {
   "cell_type": "code",
   "execution_count": 2,
   "id": "10a7659c",
   "metadata": {},
   "outputs": [
    {
     "name": "stdout",
     "output_type": "stream",
     "text": [
      "[10, 40, 50]\n"
     ]
    }
   ],
   "source": [
    "mylist=[10,'twenty','thirty',40,50]\n",
    "numeric=[x for x in mylist if str(x).isdigit()]\n",
    "print(numeric)"
   ]
  },
  {
   "cell_type": "markdown",
   "id": "baf65091",
   "metadata": {},
   "source": [
    "# Question#3"
   ]
  },
  {
   "cell_type": "code",
   "execution_count": 3,
   "id": "1e508a84",
   "metadata": {},
   "outputs": [
    {
     "name": "stdout",
     "output_type": "stream",
     "text": [
      "Dictionary {1: 'one', 2: 'two', 3: 'three'}\n",
      "Updated Dictionary {1: 'one', 2: 'two', 3: 'three', '4': 'four', '5': 'five'}\n"
     ]
    }
   ],
   "source": [
    "dic={1:'one',2:'two',3:'three'}\n",
    "print(\"Dictionary\",dic)\n",
    "dic['4']='four'\n",
    "dic['5']='five'\n",
    "print(\"Updated Dictionary\",dic)"
   ]
  },
  {
   "cell_type": "markdown",
   "id": "ab5a07da",
   "metadata": {},
   "source": [
    "# Question#4"
   ]
  },
  {
   "cell_type": "code",
   "execution_count": 4,
   "id": "408a5c14",
   "metadata": {},
   "outputs": [
    {
     "name": "stdout",
     "output_type": "stream",
     "text": [
      "Given List is  [10, 20, 30, 40, 50]\n",
      "Sum of All Numbers is  150\n"
     ]
    }
   ],
   "source": [
    "list_of_numbers=[10,20,30,40,50]\n",
    "print(\"Given List is \",list_of_numbers)\n",
    "sum=0\n",
    "for i in list_of_numbers:\n",
    "    sum=sum+i\n",
    "print(\"Sum of All Numbers is \",sum)"
   ]
  },
  {
   "cell_type": "markdown",
   "id": "0a0dad0b",
   "metadata": {},
   "source": [
    "# Question#5"
   ]
  },
  {
   "cell_type": "code",
   "execution_count": 6,
   "id": "ea172a7f",
   "metadata": {},
   "outputs": [
    {
     "name": "stdout",
     "output_type": "stream",
     "text": [
      "[1, 2, 5, 4, 6, 2, 7, 1, 6]\n",
      "Matched Items\n",
      "1 2 6 "
     ]
    }
   ],
   "source": [
    "basiclist=[1,2,5,4,6,2,7,1,6]\n",
    "print(basiclist)\n",
    "size=len(basiclist)\n",
    "matchedlist=[]\n",
    "for i in range(size):\n",
    "    k=i+1\n",
    "    for j in range(k,size):\n",
    "        if basiclist[i]==basiclist[j] and basiclist[i] not in matchedlist:\n",
    "            matchedlist.append(basiclist[j])\n",
    "print(\"Matched Items\")\n",
    "for i in matchedlist:\n",
    "    print(i,end=\" \")"
   ]
  },
  {
   "cell_type": "markdown",
   "id": "eb4d323e",
   "metadata": {},
   "source": [
    "# Question#6"
   ]
  },
  {
   "cell_type": "code",
   "execution_count": 7,
   "id": "fdc1724b",
   "metadata": {},
   "outputs": [
    {
     "name": "stdout",
     "output_type": "stream",
     "text": [
      "Enter key to search3\n",
      "Key Found\n"
     ]
    }
   ],
   "source": [
    "dictionary={1:\"Pakistan\",2:\"Canada\",3:\"India\",4:\"Engand\",5:\"Australia\"}\n",
    "inp=int(input(\"Enter key to search\"))\n",
    "x=0\n",
    "for i in dictionary.keys():\n",
    "    if i==inp:\n",
    "        x=1\n",
    "        break\n",
    "if x==0:\n",
    "    print(\"Key Not Found\")\n",
    "else:\n",
    "    print(\"Key Found\")"
   ]
  },
  {
   "cell_type": "code",
   "execution_count": null,
   "id": "eddfbc8b",
   "metadata": {},
   "outputs": [],
   "source": []
  }
 ],
 "metadata": {
  "kernelspec": {
   "display_name": "Python 3",
   "language": "python",
   "name": "python3"
  },
  "language_info": {
   "codemirror_mode": {
    "name": "ipython",
    "version": 3
   },
   "file_extension": ".py",
   "mimetype": "text/x-python",
   "name": "python",
   "nbconvert_exporter": "python",
   "pygments_lexer": "ipython3",
   "version": "3.8.8"
  }
 },
 "nbformat": 4,
 "nbformat_minor": 5
}
